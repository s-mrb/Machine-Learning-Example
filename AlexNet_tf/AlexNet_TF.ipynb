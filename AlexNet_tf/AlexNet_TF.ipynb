{
  "nbformat": 4,
  "nbformat_minor": 0,
  "metadata": {
    "colab": {
      "name": "AlexNet_TF_simple_intel_night (2).ipynb",
      "provenance": [],
      "collapsed_sections": []
    },
    "kernelspec": {
      "name": "python3",
      "display_name": "Python 3"
    },
    "accelerator": "GPU"
  },
  "cells": [
    {
      "cell_type": "markdown",
      "metadata": {
        "id": "Miy-Sz7CnE5K",
        "colab_type": "text"
      },
      "source": [
        "### **Imports**"
      ]
    },
    {
      "cell_type": "code",
      "metadata": {
        "id": "XmEFsUcBa-C5",
        "colab_type": "code",
        "colab": {}
      },
      "source": [
        "import tensorflow as tf\n",
        "from tensorflow.keras.models import Sequential\n",
        "from tensorflow.keras.layers import Dense, Conv2D, Flatten, Dropout, MaxPooling2D,LayerNormalization, Input\n",
        "from tensorflow.keras.preprocessing.image import ImageDataGenerator\n",
        "from tensorflow.keras.optimizers import SGD\n",
        "from tensorflow.keras import Model\n",
        "import os\n",
        "from os import walk\n",
        "import numpy as np\n",
        "import matplotlib.pyplot as plt"
      ],
      "execution_count": 16,
      "outputs": []
    },
    {
      "cell_type": "code",
      "metadata": {
        "id": "-8K8X-CzxPJQ",
        "colab_type": "code",
        "colab": {
          "base_uri": "https://localhost:8080/",
          "height": 33
        },
        "outputId": "2fc67b77-2e0a-462d-8cce-b4c7190c26e0"
      },
      "source": [
        "from google.colab import drive\n",
        "drive.mount('/content/drive')"
      ],
      "execution_count": 17,
      "outputs": [
        {
          "output_type": "stream",
          "text": [
            "Drive already mounted at /content/drive; to attempt to forcibly remount, call drive.mount(\"/content/drive\", force_remount=True).\n"
          ],
          "name": "stdout"
        }
      ]
    },
    {
      "cell_type": "markdown",
      "metadata": {
        "id": "NfjHqYQFCSr9",
        "colab_type": "text"
      },
      "source": [
        "### **DATA**"
      ]
    },
    {
      "cell_type": "markdown",
      "metadata": {
        "id": "0r868IrFndm-",
        "colab_type": "text"
      },
      "source": [
        "####**Helper Methods**"
      ]
    },
    {
      "cell_type": "code",
      "metadata": {
        "id": "RKJZYO_rCjhc",
        "colab_type": "code",
        "colab": {}
      },
      "source": [
        "def dir_check(path):\n",
        "    Path(path).mkdir(parents=True, exist_ok=True)\n",
        "\n",
        "def path_leaf(path):\n",
        "    head, tail = ntpath.split(path)\n",
        "\n",
        "    # if name ends with \\\\ then tail won't return anything\n",
        "    # return tail or ntpath.basename(head)\n",
        "\n",
        "    # since you dont want to return in case its not file\n",
        "    return tail\n",
        "\n",
        "\n",
        "def getF(directory, x=\"both\"):\n",
        "    # x could be \"files\" or \"folders\" or \"both\"\n",
        "\n",
        "    if directory[-1] != \"/\":\n",
        "      directory += \"/\"\n",
        "\n",
        "    folders = []\n",
        "    for f in walk(directory):\n",
        "      folders.extend(f)\n",
        "      # ???\n",
        "\n",
        "    if x == \"folders\":\n",
        "      return folders[1]\n",
        "\n",
        "      \n",
        "      \n",
        "        \n",
        "    if x == \"files\":\n",
        "        return folders[2]\n",
        "    else:\n",
        "      return folders[1], folders[2]\n",
        "\n",
        "\n",
        "\n",
        "def show_imgs(path2imgs, percentage2show, imgs2show_per_row):\n",
        "  if percentage2show > 100 or percentage2show <= 0:\n",
        "    print(\"Invalid second argument!!\\nPercentage should be 1-100\")\n",
        "    return\n",
        "\n",
        "  if path2imgs[-1] != \"/\":\n",
        "      path2imgs += \"/\"\n",
        "\n",
        "  imgs = get_shuffled_file_names(path2imgs, percentage2show)\n",
        "  print(\"Images: \"+str(len(imgs)))\n",
        "  # # ???\n",
        "  # #figure size in inches optional\n",
        "\n",
        "  \n",
        "  rcParams['figure.figsize'] = 11 ,8\n",
        "  imgs_left = len(imgs)\n",
        "\n",
        "  \n",
        "\n",
        "  # upr bound is fit\n",
        "  # jump fit\n",
        "  # print(\"bound: \"+ str(math.ceil(len(imgs)/imgs2show_per_row)+imgs2show_per_row))\n",
        "  print(\"Total Images: \"+str(len(imgs)))\n",
        "  print(\"bound: \" + str(len(imgs)))\n",
        "  for i in range(0, len(imgs), imgs2show_per_row):\n",
        "    # print(\"outer_loop: \"+str(i))\n",
        "    \n",
        "    if imgs_left >= imgs2show_per_row:\n",
        "      # 1 row and imgs2show_per_row cols\n",
        "      figure, axes = plt.subplots(1, imgs2show_per_row)\n",
        "\n",
        "    else:\n",
        "      figure, axes = plt.subplots(1, imgs_left)\n",
        "      imgs2show_per_row = imgs_left\n",
        "   \n",
        "   \n",
        "    for j in range(imgs2show_per_row):\n",
        "        \n",
        "        axes[j].imshow( mpimg.imread( path2imgs +  str(imgs[i+j]), 0 ) );\n",
        "        axes[j].set_title(str(imgs[i+j]))\n",
        "    \n",
        "    imgs_left -= imgs2show_per_row\n",
        "    print(\"imgs left: \"+str(imgs_left))\n",
        "    \n",
        "\n",
        "\n",
        "# This function will plot images in the form of a grid with 1 row and 5 columns where images are placed in each column.\n",
        "def plotImages(images_arr):\n",
        "    fig, axes = plt.subplots(1, 5, figsize=(20,20))\n",
        "    axes = axes.flatten()\n",
        "    for img, ax in zip( images_arr, axes):\n",
        "        ax.imshow(img)\n",
        "        ax.axis('off')\n",
        "    plt.tight_layout()\n",
        "    plt.show()"
      ],
      "execution_count": null,
      "outputs": []
    },
    {
      "cell_type": "markdown",
      "metadata": {
        "id": "qv_8YcLjnjN9",
        "colab_type": "text"
      },
      "source": [
        "####**GET DATA**"
      ]
    },
    {
      "cell_type": "code",
      "metadata": {
        "id": "0wLsHAgwCs5g",
        "colab_type": "code",
        "colab": {}
      },
      "source": [
        "import os\n",
        "\n",
        "# zip file download link \n",
        "url = \"https://storage.googleapis.com/kaggle-data-sets/111880%2F269359%2Fbundle%2Farchive.zip?\\\n",
        "GoogleAccessId=gcp-kaggle-com@kaggle-161607.iam.gserviceaccount.com&Expires=1594390547&Signature\\\n",
        "=VE8DnacBU0pZ61PuqpCZieSFPqZR0y%2FsI%2BzIRFYO8cQdKRcvfoeak9i%2BTAHteJcR6jW%2BQGF36GR%2BgAupiMVeg\\\n",
        "mhPvk89HAURvh3gJHT2C5FSI9SmD%2FbzB4CdaXRY1BXeKVF3shVFrD7dVbSl5JD4fNnYyrAWvP%2BK3fApNvAgsLi%2FaoV\\\n",
        "5bo8qA8WpXG6iSIqN5KP4muBvXIoOGhx5gAv7GSkzF8F9JZlRb%2FXZYoJiN3gl%2FMHCWRp73OiRp%2BCMrVRqMJpngebF\\\n",
        "QnSfCy5MnluwE3CI%2FIrJZ6FYbMwSHreqAOnvfp%2FoMzooldMzQIrg9CZUgAF6w5YwGdyOpIs7LtIO8A%3D%3D\"\n",
        "\n",
        "download_path = \"/content/download/\"\n",
        "os.makedirs(download_path)\n",
        "\n",
        "\n",
        "# Download\n",
        "!wget \"$url\" -P \"$download_path\"\n",
        "\n",
        "\n",
        "# filename\n",
        "old_filename = getF(download_path,\"files\")\n",
        "old_filename_path = download_path + old_filename[0]\n",
        "\n",
        "new_filename = \"a.zip\"\n",
        "new_filename_path = download_path + new_filename\n",
        "\n",
        "# rename file\n",
        "!mv \"$old_filename_path\" \"$new_filename_path\"\n",
        "\n",
        "\n",
        "# unzip\n",
        "path2unzip = \"/content/data/\"\n",
        "\n",
        "# os.makedirs(path2unzip)\n",
        "!unzip \"$new_filename_path\" -d \"$path2unzip\""
      ],
      "execution_count": null,
      "outputs": []
    },
    {
      "cell_type": "markdown",
      "metadata": {
        "colab_type": "text",
        "id": "m1sQfjb8Dh0R"
      },
      "source": [
        "###**Model**"
      ]
    },
    {
      "cell_type": "code",
      "metadata": {
        "id": "433fcE08FhAy",
        "colab_type": "code",
        "colab": {}
      },
      "source": [
        "# Train Path\n",
        "train_dir = \"/content/data/seg_train/seg_train/\"\n",
        "\n",
        "# Val Path\n",
        "val_dir = \"/content/data/seg_test/seg_test/\""
      ],
      "execution_count": null,
      "outputs": []
    },
    {
      "cell_type": "code",
      "metadata": {
        "colab_type": "code",
        "id": "C8wZjUjcDh0S",
        "colab": {}
      },
      "source": [
        "batch_size = 128\n",
        "epochs = 3000\n",
        "IMG_HEIGHT = 227\n",
        "IMG_WIDTH = 227\n",
        "IMG_CHANNEL = 3\n",
        "total_classes = 6"
      ],
      "execution_count": null,
      "outputs": []
    },
    {
      "cell_type": "markdown",
      "metadata": {
        "id": "9rgsK1ZleBsq",
        "colab_type": "text"
      },
      "source": [
        "####**Datagenerator and callback**"
      ]
    },
    {
      "cell_type": "code",
      "metadata": {
        "id": "J1HEkoTup3QG",
        "colab_type": "code",
        "colab": {}
      },
      "source": [
        "# Generator Declaration\n",
        "train_image_generator = ImageDataGenerator(\n",
        "                                              rescale=1./255,\n",
        "                                              rotation_range=45,\n",
        "                                              width_shift_range=.15,\n",
        "                                              height_shift_range=.15,\n",
        "                                              horizontal_flip=True,\n",
        "                                              zoom_range=0.5\n",
        "                                        ) # Generator for our training data\n",
        "\n",
        "validation_image_generator = ImageDataGenerator(\n",
        "                                         rescale=1./255\n",
        "                                        ) # Generator for our validation data"
      ],
      "execution_count": null,
      "outputs": []
    },
    {
      "cell_type": "code",
      "metadata": {
        "id": "RW6qOKthGfUL",
        "colab_type": "code",
        "colab": {
          "base_uri": "https://localhost:8080/",
          "height": 50
        },
        "outputId": "b4c75b34-0341-4852-b452-78e5a316dd42"
      },
      "source": [
        "train_data_gen = train_image_generator.flow_from_directory(\n",
        "                                                           batch_size=batch_size,\n",
        "                                                           directory=train_dir,\n",
        "                                                           shuffle=True,\n",
        "                                                           class_mode='categorical',\n",
        "                                                           target_size=(IMG_HEIGHT, IMG_WIDTH)\n",
        "                                                         )\n",
        "\n",
        "\n",
        "\n",
        "val_data_gen = validation_image_generator.flow_from_directory(  \n",
        "                                                              batch_size=batch_size,\n",
        "                                                              directory=val_dir,\n",
        "                                                              class_mode='categorical',\n",
        "                                                              target_size=(IMG_HEIGHT, IMG_WIDTH)\n",
        "                                                            )"
      ],
      "execution_count": null,
      "outputs": [
        {
          "output_type": "stream",
          "text": [
            "Found 14034 images belonging to 6 classes.\n",
            "Found 3000 images belonging to 6 classes.\n"
          ],
          "name": "stdout"
        }
      ]
    },
    {
      "cell_type": "code",
      "metadata": {
        "id": "Hl9KTnd_wNee",
        "colab_type": "code",
        "colab": {}
      },
      "source": [
        "checkpoint_filepath = '/content/drive/My Drive/weights/Alex/ensemb/'\n",
        "model_checkpoint_callback = tf.keras.callbacks.ModelCheckpoint(\n",
        "    filepath=checkpoint_filepath,\n",
        "    save_weights_only=True,\n",
        "    monitor='val_accuracy',\n",
        "    mode='max',\n",
        "    save_freq='epoch',\n",
        "    save_best_only=True)"
      ],
      "execution_count": null,
      "outputs": []
    },
    {
      "cell_type": "markdown",
      "metadata": {
        "id": "7Ny-dW2Jhb2z",
        "colab_type": "text"
      },
      "source": [
        "####**AlexNet Implementation**"
      ]
    },
    {
      "cell_type": "code",
      "metadata": {
        "id": "qtsP4k8Ld13n",
        "colab_type": "code",
        "colab": {}
      },
      "source": [
        "inputs = Input(shape=(IMG_HEIGHT, IMG_WIDTH ,3))\n",
        "conv1 = Conv2D(96, 11, strides=(4,4) , padding='valid', activation='relu')(inputs)\n",
        "pool1 = MaxPooling2D(pool_size=(3, 3), strides=(2,2), padding='valid', data_format=None)(conv1)\n",
        "a = tf.keras.layers.Lambda(tf.nn.local_response_normalization)\n",
        "lrn1 = a(pool1)\n",
        "conv2 = Conv2D(256, 5, padding='same', strides=(1,1) , activation='relu')(lrn1)\n",
        "pool2 = MaxPooling2D(pool_size=(3, 3), strides=(2,2), padding='valid', data_format=None)(conv2)\n",
        "b = tf.keras.layers.Lambda(tf.nn.local_response_normalization)\n",
        "lrn2 = b(pool2)\n",
        "conv3 = Conv2D(384, 3, padding='same', strides=(1,1), activation='relu')(lrn2)\n",
        "conv4 = Conv2D(384, 3, padding='same', strides=(1,1), activation='relu')(conv3)\n",
        "conv5 = Conv2D(256, 3, padding='same', strides=(1,1), activation='relu')(conv4)\n",
        "conv6 = MaxPooling2D(pool_size=(3, 3), strides=(2,2), padding='valid', data_format=None)(conv5)\n",
        "flat1 = Flatten()(conv6)\n",
        "dense1 = Dense(4096, activation='relu')(flat1)\n",
        "drop1 = Dropout(0.5)(dense1)\n",
        "dense2 = Dense(4096, activation='relu')(drop1)\n",
        "drop2 = Dropout(0.5)(dense2)\n",
        "dense3 = Dense(total_classes,activation='softmax')(drop2)"
      ],
      "execution_count": null,
      "outputs": []
    },
    {
      "cell_type": "code",
      "metadata": {
        "id": "mA5IYffkjR3Z",
        "colab_type": "code",
        "colab": {}
      },
      "source": [
        "model = Model(inputs=inputs, outputs=dense3, name=\"alex_intel_night\")"
      ],
      "execution_count": null,
      "outputs": []
    },
    {
      "cell_type": "code",
      "metadata": {
        "id": "wTVZFBHFjyOc",
        "colab_type": "code",
        "colab": {}
      },
      "source": [
        "model.summary()"
      ],
      "execution_count": null,
      "outputs": []
    },
    {
      "cell_type": "code",
      "metadata": {
        "id": "fjOI4vapj6NZ",
        "colab_type": "code",
        "colab": {}
      },
      "source": [
        "tf.keras.utils.plot_model(model, \"model.png\", show_shapes=True)"
      ],
      "execution_count": null,
      "outputs": []
    },
    {
      "cell_type": "code",
      "metadata": {
        "id": "ZrcSr9ABh39F",
        "colab_type": "code",
        "colab": {}
      },
      "source": [
        "opt = tf.keras.optimizers.SGD(\n",
        "    learning_rate=0.1, momentum=0.1, nesterov=False, name='SGD'\n",
        ")\n",
        "model.compile(loss='categorical_crossentropy', optimizer=opt, metrics=['accuracy'])"
      ],
      "execution_count": null,
      "outputs": []
    },
    {
      "cell_type": "code",
      "metadata": {
        "colab_type": "code",
        "id": "OSQVXGvKDh0j",
        "colab": {}
      },
      "source": [
        "history = model.fit(\n",
        "                              train_data_gen,\n",
        "                              steps_per_epoch=14034//batch_size,\n",
        "                              epochs=epochs, validation_data=val_data_gen,\n",
        "                              validation_steps=3000//batch_size,\n",
        "                              callbacks=[model_checkpoint_callback]\n",
        "                              )\n"
      ],
      "execution_count": null,
      "outputs": []
    },
    {
      "cell_type": "markdown",
      "metadata": {
        "id": "Cxtd-gsAxMqY",
        "colab_type": "text"
      },
      "source": [
        "####**Transfer Learning (Efficient Net)**"
      ]
    },
    {
      "cell_type": "code",
      "metadata": {
        "id": "oI59i2ELh6Su",
        "colab_type": "code",
        "colab": {
          "base_uri": "https://localhost:8080/",
          "height": 70
        },
        "outputId": "76a36a02-e202-4a36-c5aa-776997483449"
      },
      "source": [
        "# Create the base model from the pre-trained model MobileNet V2\n",
        "base_model = tf.keras.applications.InceptionResNetV2(input_shape=(IMG_HEIGHT,IMG_WIDTH,IMG_CHANNEL),\n",
        "                                              include_top=False, \n",
        "                                              weights='imagenet')"
      ],
      "execution_count": null,
      "outputs": [
        {
          "output_type": "stream",
          "text": [
            "Downloading data from https://storage.googleapis.com/tensorflow/keras-applications/inception_resnet_v2/inception_resnet_v2_weights_tf_dim_ordering_tf_kernels_notop.h5\n",
            "219062272/219055592 [==============================] - 2s 0us/step\n"
          ],
          "name": "stdout"
        }
      ]
    },
    {
      "cell_type": "code",
      "metadata": {
        "id": "Opdpt9qPnQNg",
        "colab_type": "code",
        "colab": {}
      },
      "source": [
        "base_model.summary()"
      ],
      "execution_count": null,
      "outputs": []
    },
    {
      "cell_type": "markdown",
      "metadata": {
        "id": "nlytuXdI2XRc",
        "colab_type": "text"
      },
      "source": [
        "**Freeze the layers**"
      ]
    },
    {
      "cell_type": "code",
      "metadata": {
        "id": "kpMVOdsdlBPM",
        "colab_type": "code",
        "colab": {}
      },
      "source": [
        "base_model.trainable = False"
      ],
      "execution_count": null,
      "outputs": []
    },
    {
      "cell_type": "markdown",
      "metadata": {
        "id": "gdItNSJx2dgD",
        "colab_type": "text"
      },
      "source": [
        "####**Load pretrained weights of your implemented AlexNet**"
      ]
    },
    {
      "cell_type": "code",
      "metadata": {
        "id": "G3VKUR_ZlpW6",
        "colab_type": "code",
        "colab": {}
      },
      "source": [
        "model.load_weights('./checkpoints/cp.ckpt')"
      ],
      "execution_count": null,
      "outputs": []
    },
    {
      "cell_type": "code",
      "metadata": {
        "id": "tr6dgiwNmQDx",
        "colab_type": "code",
        "colab": {
          "base_uri": "https://localhost:8080/",
          "height": 67
        },
        "outputId": "96f7a645-d666-4f6a-edf8-936724a72294"
      },
      "source": [
        "# Evaluate the model on the test data using `evaluate`\n",
        "print(\"Evaluate on test data\")\n",
        "results = model.evaluate(val_data_gen, batch_size=128)\n",
        "print(\"test loss, test acc:\", results)"
      ],
      "execution_count": null,
      "outputs": [
        {
          "output_type": "stream",
          "text": [
            "Evaluate on test data\n",
            "24/24 [==============================] - 6s 241ms/step - loss: 0.3751 - accuracy: 0.8697\n",
            "test loss, test acc: [0.37507104873657227, 0.8696666955947876]\n"
          ],
          "name": "stdout"
        }
      ]
    },
    {
      "cell_type": "code",
      "metadata": {
        "id": "XFu1JkFtnHFT",
        "colab_type": "code",
        "colab": {
          "base_uri": "https://localhost:8080/",
          "height": 33
        },
        "outputId": "5aa4ef81-7631-4e7e-dd2b-a8d816393f1b"
      },
      "source": [
        "model.metrics_names"
      ],
      "execution_count": null,
      "outputs": [
        {
          "output_type": "execute_result",
          "data": {
            "text/plain": [
              "['loss', 'accuracy']"
            ]
          },
          "metadata": {
            "tags": []
          },
          "execution_count": 21
        }
      ]
    },
    {
      "cell_type": "code",
      "metadata": {
        "id": "YO5RzzOjqaB0",
        "colab_type": "code",
        "colab": {
          "base_uri": "https://localhost:8080/",
          "height": 719
        },
        "outputId": "bdd2d79b-e7c5-42fc-c174-7292feac9268"
      },
      "source": [
        "model.summary()"
      ],
      "execution_count": null,
      "outputs": [
        {
          "output_type": "stream",
          "text": [
            "Model: \"alex_intel_night\"\n",
            "_________________________________________________________________\n",
            "Layer (type)                 Output Shape              Param #   \n",
            "=================================================================\n",
            "input_3 (InputLayer)         [(None, 227, 227, 3)]     0         \n",
            "_________________________________________________________________\n",
            "conv2d_203 (Conv2D)          (None, 55, 55, 96)        34944     \n",
            "_________________________________________________________________\n",
            "max_pooling2d_4 (MaxPooling2 (None, 27, 27, 96)        0         \n",
            "_________________________________________________________________\n",
            "lambda (Lambda)              (None, 27, 27, 96)        0         \n",
            "_________________________________________________________________\n",
            "conv2d_204 (Conv2D)          (None, 27, 27, 256)       614656    \n",
            "_________________________________________________________________\n",
            "max_pooling2d_5 (MaxPooling2 (None, 13, 13, 256)       0         \n",
            "_________________________________________________________________\n",
            "lambda_1 (Lambda)            (None, 13, 13, 256)       0         \n",
            "_________________________________________________________________\n",
            "conv2d_205 (Conv2D)          (None, 13, 13, 384)       885120    \n",
            "_________________________________________________________________\n",
            "conv2d_206 (Conv2D)          (None, 13, 13, 384)       1327488   \n",
            "_________________________________________________________________\n",
            "conv2d_207 (Conv2D)          (None, 13, 13, 256)       884992    \n",
            "_________________________________________________________________\n",
            "max_pooling2d_6 (MaxPooling2 (None, 6, 6, 256)         0         \n",
            "_________________________________________________________________\n",
            "flatten (Flatten)            (None, 9216)              0         \n",
            "_________________________________________________________________\n",
            "dense (Dense)                (None, 4096)              37752832  \n",
            "_________________________________________________________________\n",
            "dropout (Dropout)            (None, 4096)              0         \n",
            "_________________________________________________________________\n",
            "dense_1 (Dense)              (None, 4096)              16781312  \n",
            "_________________________________________________________________\n",
            "dropout_1 (Dropout)          (None, 4096)              0         \n",
            "_________________________________________________________________\n",
            "dense_2 (Dense)              (None, 6)                 24582     \n",
            "=================================================================\n",
            "Total params: 58,305,926\n",
            "Trainable params: 58,305,926\n",
            "Non-trainable params: 0\n",
            "_________________________________________________________________\n"
          ],
          "name": "stdout"
        }
      ]
    },
    {
      "cell_type": "code",
      "metadata": {
        "id": "p92JF2YtsZfM",
        "colab_type": "code",
        "colab": {
          "base_uri": "https://localhost:8080/",
          "height": 33
        },
        "outputId": "ec6d8294-715e-4788-83c6-e100b0cfbd87"
      },
      "source": [
        "# Better to ckeck types of Both models which are about to make ensemble\n",
        "# type(base_model)\n",
        "# type(model)"
      ],
      "execution_count": null,
      "outputs": [
        {
          "output_type": "execute_result",
          "data": {
            "text/plain": [
              "tensorflow.python.keras.engine.training.Model"
            ]
          },
          "metadata": {
            "tags": []
          },
          "execution_count": 26
        }
      ]
    },
    {
      "cell_type": "markdown",
      "metadata": {
        "id": "mnxlCg2qZFdQ",
        "colab_type": "text"
      },
      "source": [
        "####**Ensemble**"
      ]
    },
    {
      "cell_type": "code",
      "metadata": {
        "id": "gGaQaqkbkZ5g",
        "colab_type": "code",
        "colab": {}
      },
      "source": [
        "new_model = tf.keras.Sequential([\n",
        "  base_model,\n",
        "  # tf.keras.layers.Conv2D(32, 3, activation='relu'),\n",
        "  # tf.keras.layers.Dropout(0.2),\n",
        "  # tf.keras.layers.GlobalAveragePooling2D(),\n",
        "  # tf.keras.layers.Dense(5, activation='softmax')\n",
        "\n",
        "\n",
        "  # Flatten(),\n",
        "  # Dense(4096, activation='relu'),\n",
        "  # Dropout(0.5),\n",
        "  # Dropout(0.5),\n",
        "  # Dense(total_classes,activation='softmax')\n",
        "\n",
        "  tf.keras.layers.Conv2D(32, 3, activation='relu'),\n",
        "  tf.keras.layers.Dropout(0.2),\n",
        "  tf.keras.layers.GlobalAveragePooling2D(),\n",
        "  tf.keras.layers.Dense(6, activation='softmax')\n",
        "])\n"
      ],
      "execution_count": null,
      "outputs": []
    },
    {
      "cell_type": "markdown",
      "metadata": {
        "id": "I7tTAAzlbgXP",
        "colab_type": "text"
      },
      "source": [
        "#####**Load Ensemble checkpoint if any**"
      ]
    },
    {
      "cell_type": "code",
      "metadata": {
        "id": "GqkxjBtbbnLo",
        "colab_type": "code",
        "colab": {
          "base_uri": "https://localhost:8080/",
          "height": 33
        },
        "outputId": "7bbecb1a-27b5-43e0-bcf6-3adabc215860"
      },
      "source": [
        "new_model.load_weights(checkpoint_filepath)"
      ],
      "execution_count": null,
      "outputs": [
        {
          "output_type": "execute_result",
          "data": {
            "text/plain": [
              "<tensorflow.python.training.tracking.util.CheckpointLoadStatus at 0x7f79a423add8>"
            ]
          },
          "metadata": {
            "tags": []
          },
          "execution_count": 13
        }
      ]
    },
    {
      "cell_type": "markdown",
      "metadata": {
        "id": "RJCJcHui3Gvg",
        "colab_type": "text"
      },
      "source": [
        "###**Explore Ensemble Model**"
      ]
    },
    {
      "cell_type": "code",
      "metadata": {
        "id": "QyDg-flas4nU",
        "colab_type": "code",
        "colab": {}
      },
      "source": [
        "new_model.summary()"
      ],
      "execution_count": null,
      "outputs": []
    },
    {
      "cell_type": "code",
      "metadata": {
        "id": "InbL-wUfvqEE",
        "colab_type": "code",
        "colab": {}
      },
      "source": [
        "# If you want to transfer weights some specific layers of your pretrained\n",
        "#  AlexNet to specific layers of new_mode better to check shapes of both\n",
        "new_model.layers[0].output_shape"
      ],
      "execution_count": null,
      "outputs": []
    },
    {
      "cell_type": "markdown",
      "metadata": {
        "id": "hzmoj8Wb3iOR",
        "colab_type": "text"
      },
      "source": [
        "#####**Evaluate Ensemble trainig**"
      ]
    },
    {
      "cell_type": "markdown",
      "metadata": {
        "id": "rX3HN1mEykof",
        "colab_type": "text"
      },
      "source": [
        "**First Just see if only training newly added last layers works**"
      ]
    },
    {
      "cell_type": "code",
      "metadata": {
        "id": "RZjC36QdthAq",
        "colab_type": "code",
        "colab": {}
      },
      "source": [
        "# opt2 = tf.keras.optimizers.SGD(\n",
        "#     learning_rate=0.1, momentum=0.1, nesterov=False, name='SGD'\n",
        "# )\n",
        "# new_model.compile(loss='categorical_crossentropy', optimizer=opt2, metrics=['accuracy'])\n",
        "\n",
        "new_model.compile(optimizer=tf.keras.optimizers.Adam(), \n",
        "              loss='categorical_crossentropy', \n",
        "              metrics=['accuracy'])"
      ],
      "execution_count": null,
      "outputs": []
    },
    {
      "cell_type": "code",
      "metadata": {
        "id": "wG7Z2yVAtTJB",
        "colab_type": "code",
        "colab": {}
      },
      "source": [
        "# Evaluate the model on the test data using `evaluate`\n",
        "print(\"Evaluate on test data\")\n",
        "results = new_model.evaluate(val_data_gen, batch_size=batch_size)\n",
        "print(\"test loss, test acc:\", results)"
      ],
      "execution_count": null,
      "outputs": []
    },
    {
      "cell_type": "markdown",
      "metadata": {
        "id": "z_OO-Cddx68y",
        "colab_type": "text"
      },
      "source": [
        "#####**Fine Tuning/Further training**"
      ]
    },
    {
      "cell_type": "code",
      "metadata": {
        "id": "Ah8cti0KyZAv",
        "colab_type": "code",
        "colab": {
          "base_uri": "https://localhost:8080/",
          "height": 33
        },
        "outputId": "563b69b0-2b42-4916-ed7b-e4e39c7ee29e"
      },
      "source": [
        "# Let's take a look to see how many layers are in the base model\n",
        "print(\"Number of layers in the base model: \", len(base_model.layers))"
      ],
      "execution_count": null,
      "outputs": [
        {
          "output_type": "stream",
          "text": [
            "Number of layers in the base model:  780\n"
          ],
          "name": "stdout"
        }
      ]
    },
    {
      "cell_type": "code",
      "metadata": {
        "id": "k4eQVPI_yxyd",
        "colab_type": "code",
        "colab": {}
      },
      "source": [
        "# opt2 = tf.keras.optimizers.SGD(\n",
        "#     learning_rate=0.1, momentum=0.1, nesterov=False, name='SGD'\n",
        "# )\n",
        "# new_model.compile(loss='categorical_crossentropy', optimizer=opt2, metrics=['accuracy'])\n",
        "\n",
        "\n",
        "new_model.compile(optimizer=tf.keras.optimizers.Adam(), \n",
        "              loss='categorical_crossentropy', \n",
        "              metrics=['accuracy'])"
      ],
      "execution_count": null,
      "outputs": []
    },
    {
      "cell_type": "code",
      "metadata": {
        "id": "ncnA5ZzszNzf",
        "colab_type": "code",
        "colab": {}
      },
      "source": [
        "history = new_model.fit(\n",
        "                              train_data_gen,\n",
        "                              steps_per_epoch=14034//batch_size,\n",
        "                              epochs=10, validation_data=val_data_gen,\n",
        "                              validation_steps=3000//batch_size,\n",
        "                              callbacks=[model_checkpoint_callback]\n",
        "                              \n",
        "                              )"
      ],
      "execution_count": null,
      "outputs": []
    },
    {
      "cell_type": "code",
      "metadata": {
        "id": "Pwy0JqH0o5sy",
        "colab_type": "code",
        "colab": {}
      },
      "source": [
        "history = new_model.fit(\n",
        "                              train_data_gen,\n",
        "                              steps_per_epoch=14034//batch_size,\n",
        "                              epochs=10, validation_data=val_data_gen,\n",
        "                              validation_steps=3000//batch_size,\n",
        "                              callbacks=[model_checkpoint_callback]\n",
        "                              \n",
        "                              )"
      ],
      "execution_count": null,
      "outputs": []
    },
    {
      "cell_type": "code",
      "metadata": {
        "id": "C0Q_A2HwwCVZ",
        "colab_type": "code",
        "colab": {}
      },
      "source": [
        "history = new_model.fit(\n",
        "                              train_data_gen,\n",
        "                              steps_per_epoch=14034//batch_size,\n",
        "                              epochs=30, validation_data=val_data_gen,\n",
        "                              validation_steps=3000//batch_size,\n",
        "                              callbacks=[model_checkpoint_callback]\n",
        "                              \n",
        "                              )"
      ],
      "execution_count": null,
      "outputs": []
    },
    {
      "cell_type": "code",
      "metadata": {
        "id": "CKdgETOrceNi",
        "colab_type": "code",
        "colab": {}
      },
      "source": [
        "history = new_model.fit(\n",
        "                              train_data_gen,\n",
        "                              steps_per_epoch=14034//batch_size,\n",
        "                              epochs=30, validation_data=val_data_gen,\n",
        "                              validation_steps=3000//batch_size,\n",
        "                              callbacks=[model_checkpoint_callback]\n",
        "                              \n",
        "                              )"
      ],
      "execution_count": null,
      "outputs": []
    },
    {
      "cell_type": "code",
      "metadata": {
        "id": "W-2ZQ5BS8cpJ",
        "colab_type": "code",
        "colab": {}
      },
      "source": [
        "history = new_model.fit(\n",
        "                              train_data_gen,\n",
        "                              steps_per_epoch=14034//batch_size,\n",
        "                              epochs=30, validation_data=val_data_gen,\n",
        "                              validation_steps=3000//batch_size,\n",
        "                              callbacks=[model_checkpoint_callback]\n",
        "                              \n",
        "                              )"
      ],
      "execution_count": null,
      "outputs": []
    },
    {
      "cell_type": "markdown",
      "metadata": {
        "id": "koOfexzE7s0J",
        "colab_type": "text"
      },
      "source": [
        "**PLOT**"
      ]
    },
    {
      "cell_type": "code",
      "metadata": {
        "id": "M5FsY5yj7upJ",
        "colab_type": "code",
        "colab": {}
      },
      "source": [
        "acc = history.history['accuracy']\n",
        "val_acc = history.history['val_accuracy']\n",
        "\n",
        "loss = history.history['loss']\n",
        "val_loss = history.history['val_loss']\n",
        "\n",
        "plt.figure(figsize=(8, 8))\n",
        "plt.subplot(2, 1, 1)\n",
        "plt.plot(acc, label='Training Accuracy')\n",
        "plt.plot(val_acc, label='Validation Accuracy')\n",
        "plt.legend(loc='lower right')\n",
        "plt.ylabel('Accuracy')\n",
        "plt.ylim([min(plt.ylim()),1])\n",
        "plt.title('Training and Validation Accuracy')\n",
        "\n",
        "plt.subplot(2, 1, 2)\n",
        "plt.plot(loss, label='Training Loss')\n",
        "plt.plot(val_loss, label='Validation Loss')\n",
        "plt.legend(loc='upper right')\n",
        "plt.ylabel('Cross Entropy')\n",
        "plt.ylim([0,1.0])\n",
        "plt.title('Training and Validation Loss')\n",
        "plt.xlabel('epoch')\n",
        "plt.show()"
      ],
      "execution_count": null,
      "outputs": []
    },
    {
      "cell_type": "markdown",
      "metadata": {
        "id": "yYvNa6S73-jz",
        "colab_type": "text"
      },
      "source": [
        "**Unfreeze few layers and train**"
      ]
    },
    {
      "cell_type": "code",
      "metadata": {
        "id": "11ad4RekIAx4",
        "colab_type": "code",
        "colab": {}
      },
      "source": [
        "base_model.trainable = True"
      ],
      "execution_count": null,
      "outputs": []
    },
    {
      "cell_type": "code",
      "metadata": {
        "id": "DS7zsv0CyeKa",
        "colab_type": "code",
        "colab": {}
      },
      "source": [
        "# Fine tune from this layer onwards\n",
        "fine_tune_at = 150\n",
        "\n",
        "# Freeze all the layers before the `fine_tune_at` layer\n",
        "for layer in base_model.layers[:fine_tune_at]:\n",
        "  layer.trainable =  False"
      ],
      "execution_count": null,
      "outputs": []
    },
    {
      "cell_type": "code",
      "metadata": {
        "id": "lFCdoEEIIe53",
        "colab_type": "code",
        "colab": {}
      },
      "source": [
        "opt2 = tf.keras.optimizers.SGD(\n",
        "    learning_rate=0.1, momentum=0.1, nesterov=False, name='SGD'\n",
        ")\n",
        "new_model.compile(loss='categorical_crossentropy', optimizer=opt2, metrics=['accuracy'])"
      ],
      "execution_count": null,
      "outputs": []
    },
    {
      "cell_type": "code",
      "metadata": {
        "id": "LXuVjNuKIfc_",
        "colab_type": "code",
        "colab": {}
      },
      "source": [
        "history = new_model.fit(\n",
        "                              train_data_gen,\n",
        "                              steps_per_epoch=14034//batch_size,\n",
        "                              epochs=20, validation_data=val_data_gen,\n",
        "                              validation_steps=3000//batch_size,\n",
        "                              callbacks=[model_checkpoint_callback]\n",
        "                              )"
      ],
      "execution_count": null,
      "outputs": []
    },
    {
      "cell_type": "code",
      "metadata": {
        "id": "AMn4zrzaCRrX",
        "colab_type": "code",
        "colab": {
          "base_uri": "https://localhost:8080/",
          "height": 67
        },
        "outputId": "4d7f79fb-b12d-4bec-fb4c-0c80232f15a6"
      },
      "source": [
        "# Evaluate the model on the test data using `evaluate`\n",
        "print(\"Evaluate on test data\")\n",
        "results = new_model.evaluate(val_data_gen, batch_size=batch_size)\n",
        "print(\"test loss, test acc:\", results)"
      ],
      "execution_count": null,
      "outputs": [
        {
          "output_type": "stream",
          "text": [
            "Evaluate on test data\n",
            "24/24 [==============================] - 35s 1s/step - loss: 0.3048 - accuracy: 0.8917\n",
            "test loss, test acc: [0.3048091530799866, 0.8916666507720947]\n"
          ],
          "name": "stdout"
        }
      ]
    },
    {
      "cell_type": "code",
      "metadata": {
        "id": "aIS3UFUjIjVk",
        "colab_type": "code",
        "colab": {}
      },
      "source": [
        "acc = history.history['accuracy']\n",
        "val_acc = history.history['val_accuracy']\n",
        "\n",
        "loss = history.history['loss']\n",
        "val_loss = history.history['val_loss']\n",
        "\n",
        "plt.figure(figsize=(8, 8))\n",
        "plt.subplot(2, 1, 1)\n",
        "plt.plot(acc, label='Training Accuracy')\n",
        "plt.plot(val_acc, label='Validation Accuracy')\n",
        "plt.legend(loc='lower right')\n",
        "plt.ylabel('Accuracy')\n",
        "plt.ylim([min(plt.ylim()),1])\n",
        "plt.title('Training and Validation Accuracy')\n",
        "\n",
        "plt.subplot(2, 1, 2)\n",
        "plt.plot(loss, label='Training Loss')\n",
        "plt.plot(val_loss, label='Validation Loss')\n",
        "plt.legend(loc='upper right')\n",
        "plt.ylabel('Cross Entropy')\n",
        "plt.ylim([0,1.0])\n",
        "plt.title('Training and Validation Loss')\n",
        "plt.xlabel('epoch')\n",
        "plt.show()"
      ],
      "execution_count": null,
      "outputs": []
    },
    {
      "cell_type": "code",
      "metadata": {
        "id": "br3sc9AkIjfW",
        "colab_type": "code",
        "colab": {}
      },
      "source": [
        ""
      ],
      "execution_count": null,
      "outputs": []
    },
    {
      "cell_type": "code",
      "metadata": {
        "id": "4qHu2-XnxBpP",
        "colab_type": "code",
        "colab": {}
      },
      "source": [
        "model.save_weights('/content/drive/My Drive/tuk/Alex/intel2/my_model_weights.h5')\n",
        "model.save('/content/drive/My Drive/tuk/Alex/intel2/my_model.h5')"
      ],
      "execution_count": null,
      "outputs": []
    }
  ]
}